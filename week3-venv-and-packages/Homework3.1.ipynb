{
 "cells": [
  {
   "cell_type": "markdown",
   "metadata": {},
   "source": [
    "# Homework 3.1 - Python packages and virtual environments 101\n"
   ]
  },
  {
   "cell_type": "markdown",
   "metadata": {},
   "source": [
    "## Commonly used libraries in the Standard Library\n",
    "\n",
    "The Python Standard Library is quite extensive and consists of more than 200 core modules. These modules cover a wide range of functionalities, from file I/O and system calls, to internet protocols - some more useful, or more commonly used, than others.\n",
    "\n",
    "Below we'll see a basic, example of some of the libraries that are commonly used."
   ]
  },
  {
   "cell_type": "code",
   "execution_count": null,
   "metadata": {},
   "outputs": [],
   "source": [
    "# Import the required modules from the Python Standard Library\n",
    "import datetime\n",
    "import os\n",
    "import platform\n",
    "import random\n",
    "import math\n",
    "import json\n",
    "\n",
    "# Get the current date and time\n",
    "now = datetime.datetime.now()\n",
    "\n",
    "# Get the current working directory\n",
    "cwd = os.getcwd()\n",
    "\n",
    "# Get the current platform\n",
    "current_platform = platform.system()\n",
    "\n",
    "# Generate a random number\n",
    "random_number = random.randint(1, 10)\n",
    "\n",
    "# Calculate the square root of the random number\n",
    "sqrt = math.sqrt(random_number)\n",
    "\n",
    "# Create a dictionary with the results\n",
    "results = {\n",
    "    \"date_time\": str(now),\n",
    "    \"directory\": cwd,\n",
    "    \"platform\": current_platform,\n",
    "    \"random_number\": random_number,\n",
    "    \"square_root\": sqrt\n",
    "}\n",
    "\n",
    "# Convert the dictionary to a JSON string\n",
    "json_results = json.dumps(results, indent=4)\n",
    "\n",
    "# Print the JSON string\n",
    "print(\"Hello, here are some fun facts for you in JSON format:\")\n",
    "print(json_results)"
   ]
  },
  {
   "cell_type": "markdown",
   "metadata": {},
   "source": [
    "## Virtual environments\n",
    "\n",
    "Now Azure ML has a few conda environments already created for us... head over to the terminal of your running compute instance and run `conda env list` to see the full list. As we covered previously, each of these virtual environments will have a collection of different packages and versions of Python (some even slated as end-of-life...)\n",
    "\n",
    "\n",
    "To change your current environment, you can run the command `conda activate <insert_env_name_here>` which will 'deactivate' the current environment and then 'activate' the new environment. Once this has completed, go ahead and run the following command `conda list` - this will print all of the packages installed within the environment you have just activated.\n",
    "\n",
    "Now to create a new conda environment... The command `conda create -n myenv python=3.9 scipy=0.17.3 astroid babel` will create a new environment with the name 'myenv', with Python v3.9 and a few packages installed. Note that after creating the environment, you will need to run the 'activate' command in order to use it.\n",
    "\n",
    "Make sense?! With the fundaments covered, you can now go ahead and create a new virtual environment with Python v3.11..."
   ]
  },
  {
   "cell_type": "markdown",
   "metadata": {},
   "source": [
    "Once that has been completed, we have a few more steps to follow...\n",
    "\n",
    "When we run our notebooks, we use one of the kernels found in the top right of the notebook - but how do can we use our newly created virtual environment in a notebook?\n",
    "\n",
    "A kernel, while very similar to a virtual environment, and can even be associated with a specific virtual environment, is used as a computational engine specifically to run cells within a notebook. To convert our virtual environment into a kernel, we can run the following commands:\n",
    "\n",
    "`pip install ipykernel`\n",
    "\n",
    "`python -m ipykernel install --user --name <env_name_here> --display-name \"Python openai_env\"`"
   ]
  },
  {
   "cell_type": "markdown",
   "metadata": {},
   "source": [
    "## "
   ]
  }
 ],
 "metadata": {
  "kernelspec": {
   "display_name": "Python 3",
   "language": "python",
   "name": "python3"
  },
  "language_info": {
   "codemirror_mode": {
    "name": "ipython",
    "version": 3
   },
   "file_extension": ".py",
   "mimetype": "text/x-python",
   "name": "python",
   "nbconvert_exporter": "python",
   "pygments_lexer": "ipython3",
   "version": "3.10.13"
  }
 },
 "nbformat": 4,
 "nbformat_minor": 2
}
