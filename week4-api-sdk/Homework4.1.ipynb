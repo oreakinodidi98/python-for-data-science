{
 "cells": [
  {
   "cell_type": "markdown",
   "metadata": {},
   "source": [
    "# Homework 4.1 - Introduction to API requests in Python\n",
    "\n",
    "This notebook will explore how to call external APIs, as well as how to leverage the Azure Machine Learning Python SDKv2 to interact with the Azure Machine Learning Studio"
   ]
  },
  {
   "cell_type": "markdown",
   "metadata": {},
   "source": [
    "### Interacting with APIs\n",
    "\n",
    "We’ll  make use of the `requests` library, which is a common tool for making HTTP requests in Python as well as the `DogAPI` API as an example, which is a free to use REST API for all the dog information you could ever need!\n",
    "\n",
    "Check out the API documentation to aid in your understanding of the following few cells: https://dogapi.dog/docs/api-v2"
   ]
  },
  {
   "cell_type": "code",
   "execution_count": null,
   "metadata": {},
   "outputs": [],
   "source": [
    "import requests\n",
    "\n",
    "response = requests.get('https://dogapi.dog/api/v2/breeds/') # The API endpoint we want to query. See here: https://dogapi.dog/docs/api-v2\n",
    "\n",
    "# The .json() method returns the JSON response as a dictionary\n",
    "data = response.json()\n",
    "\n",
    "data.keys() # Let's look at the high-level anatomy of the response..."
   ]
  },
  {
   "cell_type": "code",
   "execution_count": null,
   "metadata": {},
   "outputs": [],
   "source": [
    "data['data'] # Let's dig into the data we received from the API..."
   ]
  },
  {
   "cell_type": "code",
   "execution_count": null,
   "metadata": {},
   "outputs": [],
   "source": [
    "data['links'] # And now for the links to see where our data is coming from...https://dogapi.dog/docs/api-v2"
   ]
  },
  {
   "cell_type": "code",
   "execution_count": null,
   "metadata": {},
   "outputs": [],
   "source": [
    "dog_ = data['data'][0] # Let's get the first dog and say hello!\n",
    "dog_"
   ]
  },
  {
   "cell_type": "code",
   "execution_count": null,
   "metadata": {},
   "outputs": [],
   "source": [
    "group_id_ = dog_['relationships']['group']['data']['id'] # Fetch the group id and query a different API endpoint...\n",
    "\n",
    "response = requests.get(f'https://dogapi.dog/api/v2/groups/{group_id_}') # The API endpoint we want to query. See here: https://dogapi.dog/docs/api-v2\n",
    "\n",
    "# The .json() method returns the JSON response as a dictionary\n",
    "data = response.json()\n",
    "\n",
    "data['data']"
   ]
  },
  {
   "cell_type": "markdown",
   "metadata": {},
   "source": [
    "But what happens if our API call fails for some reason...? We probably should look to include some error handling..."
   ]
  },
  {
   "cell_type": "code",
   "execution_count": null,
   "metadata": {},
   "outputs": [],
   "source": [
    "url_1 = 'https://dogapi.dog/api/v2/breeds/'\n",
    "url_2 = 'https://dogapi.dog/api/v2/bds/'\n",
    "\n",
    "response = requests.get(url_1) # The API endpoint we want to query. See here: https://dogapi.dog/docs/api-v2\n",
    "\n",
    "if response.status_code == 200: # Success\n",
    "    print(\"API call was successful!\")\n",
    "else: # Fail\n",
    "    print(f\"API call failed with status code {response.status_code}\")\n",
    "\n",
    "# Parse the response as JSON\n",
    "data = response.json()"
   ]
  },
  {
   "cell_type": "markdown",
   "metadata": {},
   "source": [
    "So, we have now explored submitting 'GET' requests to an API endpoint, interrogated the output via parsing to a JSON object as well as incorporated some error handling in case our calls fail! Let's now look at submitting a 'POST' request - this time we will use the JSONPlaceholder API which is a free, fake API for testing purposes."
   ]
  },
  {
   "cell_type": "code",
   "execution_count": null,
   "metadata": {},
   "outputs": [],
   "source": [
    "# Define the URL of the API endpoint\n",
    "url = \"https://jsonplaceholder.typicode.com/posts\"\n",
    "\n",
    "# Define the data you want to send in the POST request\n",
    "data = {\n",
    "    \"title\": \"My New Post v1.1\",\n",
    "    \"body\": \"This is the content of my new post.\",\n",
    "    \"userId\": 123098\n",
    "}\n",
    "\n",
    "# Make a POST request to the API\n",
    "response = requests.post(url, json=data)\n",
    "\n",
    "# Check the status code of the response\n",
    "if response.status_code == 201:\n",
    "    print(\"Post was successfully created!\")\n",
    "else:\n",
    "    print(f\"Post creation failed with status code {response.status_code}\")\n",
    "\n",
    "# Parse the response as JSON\n",
    "response_data = response.json()\n",
    "\n",
    "# Print the ID of the new post\n",
    "print(f\"New post ID: {response_data['id']}\")\n"
   ]
  },
  {
   "cell_type": "markdown",
   "metadata": {},
   "source": [
    "Now you have seen a few examples, have a look at the following repo and look for a different, free API to start calling: https://github.com/public-api-lists/public-api-lists?tab=readme-ov-file#public-api-lists"
   ]
  }
 ],
 "metadata": {
  "kernelspec": {
   "display_name": "Python 3",
   "language": "python",
   "name": "python3"
  },
  "language_info": {
   "codemirror_mode": {
    "name": "ipython",
    "version": 3
   },
   "file_extension": ".py",
   "mimetype": "text/x-python",
   "name": "python",
   "nbconvert_exporter": "python",
   "pygments_lexer": "ipython3",
   "version": "3.10.13"
  }
 },
 "nbformat": 4,
 "nbformat_minor": 2
}
