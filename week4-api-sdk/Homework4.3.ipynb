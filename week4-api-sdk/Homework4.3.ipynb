{
  "cells": [
    {
      "cell_type": "markdown",
      "metadata": {
        "nteract": {
          "transient": {
            "deleting": false
          }
        }
      },
      "source": [
        "## Homework 4.3 - 'Hello World' with Azure OpenAI\n",
        "\n",
        "For this section, you will need an Azure OpenAI resource created with a GPT3.5/4 model deployed! Please note that this example is basic as future weeks of the bootcamp will cover this in much more detail!\n",
        "\n",
        "We will be using the kernel created last week using the `requirements.txt` file - if you haven't created it, please see [here](../week3-venv-and-packages/setup-AML-kernel-example.ipynb)."
      ]
    },
    {
      "cell_type": "code",
      "execution_count": null,
      "metadata": {
        "gather": {
          "logged": 1715343176769
        }
      },
      "outputs": [],
      "source": [
        "import emoji\n",
        "print(emoji.emojize('Python is :thumbs_up:'))"
      ]
    },
    {
      "cell_type": "markdown",
      "metadata": {},
      "source": [
        "- Create Azure OpenAI Resource [Detailed Instructions](https://learn.microsoft.com/en-us/azure/ai-services/openai/how-to/create-resource?pivots=web-portal)\n",
        "\n",
        "- Rename credentials_template.env to credentials.env [Detailed Instructions](https://learn.microsoft.com/en-us/azure/ai-services/openai/quickstart?tabs=command-line%2Cpython-new&pivots=programming-language-python#retrieve-key-and-endpoint)\n",
        "- Fill in the credentials.env\n"
      ]
    },
    {
      "cell_type": "code",
      "execution_count": null,
      "metadata": {
        "gather": {
          "logged": 1715343181175
        }
      },
      "outputs": [],
      "source": [
        "# Loads in environement varaibles from credentials.env. \n",
        "# Note that if you change the contents of credentials.env you will need to restart your python kernel as well as rerun this cell.\n",
        "import os\n",
        "from openai import AzureOpenAI\n",
        "from dotenv import load_dotenv\n",
        "load_dotenv(\"credentials.env\")\n",
        "\n",
        "endpoint = os.environ.get(\"AZURE_OPENAI_ENDPOINT\")\n",
        "api_key = os.environ.get(\"AZURE_OPENAI_API_KEY\")\n",
        "deployment = os.environ.get(\"AZURE_OPENAI_DEPLOYMENT_ID\")\n",
        "\n"
      ]
    },
    {
      "cell_type": "code",
      "execution_count": null,
      "metadata": {
        "gather": {
          "logged": 1715343182626
        }
      },
      "outputs": [],
      "source": [
        "print(\"Endpoint: \", endpoint)\n",
        "print(\"API Key: \", api_key)\n",
        "print(\"Deployment: \", deployment)"
      ]
    },
    {
      "cell_type": "code",
      "execution_count": null,
      "metadata": {},
      "outputs": [],
      "source": [
        "client = AzureOpenAI(\n",
        "    azure_endpoint=endpoint,\n",
        "    api_key=api_key,\n",
        "    api_version=\"2024-02-01\",\n",
        ")"
      ]
    },
    {
      "cell_type": "code",
      "execution_count": null,
      "metadata": {
        "gather": {
          "logged": 1715343283150
        }
      },
      "outputs": [],
      "source": [
        "\n",
        "response = client.chat.completions.create(\n",
        "    model=deployment,\n",
        "    messages=[\n",
        "        {\"role\": \"system\", \"content\": \"You are a helpful assistant.\"},\n",
        "        {\"role\": \"user\", \"content\": \"Does Azure OpenAI support customer managed keys?\"},\n",
        "        {\"role\": \"assistant\", \"content\": \"Yes, customer managed keys are supported by Azure OpenAI.\"},\n",
        "        {\"role\": \"user\", \"content\": \"Do other Azure AI services support this too?\"}\n",
        "    ]\n",
        ")\n",
        "\n",
        "print(response.choices[0].message.content)"
      ]
    },
    {
      "cell_type": "code",
      "execution_count": null,
      "metadata": {},
      "outputs": [],
      "source": [
        "article = \"\"\"Formula 1 has tweaked the format to the sprint events for the 2024 season.\n",
        "Qualifying for the shorter sprint race is now held on Friday instead of Saturday, following the only practice session of the weekend.\n",
        "The 100km sprint will then take place as the first track action on Saturday, before main qualifying for the grand prix in its regular slot later in the day.\n",
        "Sunday's race remains unchanged. China hosted the first sprint of the year in April and Miami the second in May. \n",
        "After Austria this weekend, there will also be sprints in Austin, Brazil and Qatar towards the end of the season.Why has the sprint format changed again?\n",
        "The schedule for sprint weekends for this season has been refreshed again in an attempt to create a better spectacle.\n",
        "In February, teams voted to keep the same sessions, but the order in which they take place has been rejigged.\n",
        "Last year, Saturday became a standalone sprint day, independent of the main grand prix, with a 'sprint shootout' added to determine who started on pole for the 100km race later that day. \n",
        "Qualifying for Sunday's race was held on Friday, after one hour of practice.\n",
        "The previous format for sprint weekends, which were introduced in 2021, had the Friday qualifying session setting the grid for the sprint and the result of the sprint establishing the grid for the main grand prix.\n",
        "That meant drivers were reluctant to take chances in the sprint because any errors or accidents would disproportionately harm their chances in the grand prix.\n",
        "How does the F1 sprint race work?The sprint shootout has three sessions - like normal qualifying - with the slowest five cars eliminated at the end of the first two. T\n",
        "hese sessions last just 12, 10 and eight minutes, respectively. The three sessions in a standard qualifying run for 18, 15 and 12 minutes.\n",
        "In the sprint race, the top eight finishers score points, from eight for first place down to one for eighth.\"\"\"\n",
        "\n",
        "response = client.chat.completions.create(\n",
        "    model=deployment,\n",
        "    messages=[\n",
        "        {\"role\": \"system\", \"content\": \"You are a helpful assistant.\"},\n",
        "        {\"role\": \"user\", \"content\": f\"Consider this article: {article} Please create a summary\"}\n",
        "    ]\n",
        ")\n",
        "\n",
        "print(response.choices[0].message.content)"
      ]
    }
  ],
  "metadata": {
    "kernel_info": {
      "name": "openai_env"
    },
    "kernelspec": {
      "display_name": "openai_env",
      "language": "python",
      "name": "python3"
    },
    "language_info": {
      "codemirror_mode": {
        "name": "ipython",
        "version": 3
      },
      "file_extension": ".py",
      "mimetype": "text/x-python",
      "name": "python",
      "nbconvert_exporter": "python",
      "pygments_lexer": "ipython3",
      "version": "3.10.14"
    },
    "microsoft": {
      "ms_spell_check": {
        "ms_spell_check_language": "en"
      }
    },
    "nteract": {
      "version": "nteract-front-end@1.0.0"
    }
  },
  "nbformat": 4,
  "nbformat_minor": 2
}
