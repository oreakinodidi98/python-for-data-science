{
 "cells": [
  {
   "cell_type": "markdown",
   "metadata": {},
   "source": [
    "# Homework 2.2 - Classes, data structures, debugging & exception handling\n"
   ]
  },
  {
   "cell_type": "markdown",
   "metadata": {},
   "source": [
    "## Data Structures\n"
   ]
  },
  {
   "cell_type": "markdown",
   "metadata": {},
   "source": [
    "### The humble, but ever-reliable list\n",
    "\n",
    "A list is a value that contains multiple values in an ordered sequence. The term list value refers to the list itself (which is a value that can be stored in a variable or passed to a function like any other value), not the values inside the list value. \n",
    "\n",
    "The first value in the list is at index 0, the second value is at index 1, the third value is at index 2, and so on. \n",
    "\n",
    "Lists can also contain other list values. The values in these lists of lists can be accessed using multiple indexes."
   ]
  },
  {
   "cell_type": "code",
   "execution_count": 17,
   "metadata": {},
   "outputs": [
    {
     "data": {
      "text/plain": [
       "['cat', 'bat', 'rat', 'elephant', 'dog']"
      ]
     },
     "execution_count": 17,
     "metadata": {},
     "output_type": "execute_result"
    }
   ],
   "source": [
    "list_1 = ['cat', 'bat', 'rat', 'elephant']\n",
    "list_1.append('dog') # Add the element 'dog' to the end of the list\n",
    "list_1 # Print th list"
   ]
  },
  {
   "cell_type": "code",
   "execution_count": 4,
   "metadata": {},
   "outputs": [
    {
     "name": "stdout",
     "output_type": "stream",
     "text": [
      "The bat ate the cat\n"
     ]
    }
   ],
   "source": [
    "print(f'The {list_1[1]} ate the {list_1[0]}') # Concatination using an f-string to print a sentence using the elements of the list"
   ]
  },
  {
   "cell_type": "code",
   "execution_count": 6,
   "metadata": {},
   "outputs": [
    {
     "ename": "IndexError",
     "evalue": "list index out of range",
     "output_type": "error",
     "traceback": [
      "\u001b[0;31m---------------------------------------------------------------------------\u001b[0m",
      "\u001b[0;31mIndexError\u001b[0m                                Traceback (most recent call last)",
      "Cell \u001b[0;32mIn[6], line 1\u001b[0m\n\u001b[0;32m----> 1\u001b[0m \u001b[43mspam\u001b[49m\u001b[43m[\u001b[49m\u001b[38;5;241;43m10000\u001b[39;49m\u001b[43m]\u001b[49m \u001b[38;5;66;03m# Throw an IndexError due to the length of the list!\u001b[39;00m\n",
      "\u001b[0;31mIndexError\u001b[0m: list index out of range"
     ]
    }
   ],
   "source": [
    "list_1[10000] # Throw an IndexError due to the length of the list!"
   ]
  },
  {
   "cell_type": "code",
   "execution_count": 11,
   "metadata": {},
   "outputs": [
    {
     "ename": "TypeError",
     "evalue": "list indices must be integers or slices, not float",
     "output_type": "error",
     "traceback": [
      "\u001b[0;31m---------------------------------------------------------------------------\u001b[0m",
      "\u001b[0;31mTypeError\u001b[0m                                 Traceback (most recent call last)",
      "Cell \u001b[0;32mIn[11], line 1\u001b[0m\n\u001b[0;32m----> 1\u001b[0m \u001b[43mspam\u001b[49m\u001b[43m[\u001b[49m\u001b[38;5;241;43m1.0\u001b[39;49m\u001b[43m]\u001b[49m \u001b[38;5;66;03m#TypeError due to indexing by a float\u001b[39;00m\n",
      "\u001b[0;31mTypeError\u001b[0m: list indices must be integers or slices, not float"
     ]
    }
   ],
   "source": [
    "list_1[1.0] #TypeError due to indexing by a float"
   ]
  },
  {
   "cell_type": "code",
   "execution_count": 10,
   "metadata": {},
   "outputs": [
    {
     "data": {
      "text/plain": [
       "'bat'"
      ]
     },
     "execution_count": 10,
     "metadata": {},
     "output_type": "execute_result"
    }
   ],
   "source": [
    "list_1[int(1.0)]"
   ]
  },
  {
   "cell_type": "code",
   "execution_count": 13,
   "metadata": {},
   "outputs": [
    {
     "name": "stdout",
     "output_type": "stream",
     "text": [
      "Element 0: ['cat', 'bat'], element 1: [10, 20, 30, 40, 50]\n"
     ]
    }
   ],
   "source": [
    "list_2 = [['cat', 'bat'], [10, 20, 30, 40, 50]]\n",
    "print(f'Element 0: {list_2[0]}, element 1: {list_2[1]}')"
   ]
  },
  {
   "cell_type": "code",
   "execution_count": 14,
   "metadata": {},
   "outputs": [
    {
     "data": {
      "text/plain": [
       "'cat'"
      ]
     },
     "execution_count": 14,
     "metadata": {},
     "output_type": "execute_result"
    }
   ],
   "source": [
    "list_2[0][0] #Nested reference to an element. Note that multiple dimensional lists are not considered best practice for large datasets, especially in data science! Consider using Numpy arrays or Polar dataframes!"
   ]
  },
  {
   "cell_type": "code",
   "execution_count": 18,
   "metadata": {},
   "outputs": [
    {
     "data": {
      "text/plain": [
       "'dog'"
      ]
     },
     "execution_count": 18,
     "metadata": {},
     "output_type": "execute_result"
    }
   ],
   "source": [
    "list_1[-1] #Get the last element"
   ]
  },
  {
   "cell_type": "markdown",
   "metadata": {},
   "source": [
    "### The key is in the dictionary... literally\n",
    "\n",
    "Like a list, a dictionary is a mutable collection of many values. But unlike indexes for lists, indexes for dictionaries can use many different data types, not just integers. Indexes for dictionaries are called keys, and a key with its associated value is called a key-value pair. In code, a dictionary is typed with braces, {}."
   ]
  },
  {
   "cell_type": "code",
   "execution_count": 22,
   "metadata": {},
   "outputs": [],
   "source": [
    "my_cat = {'size': 'fat', 'colour': 'gray', 'disposition': 'loud'}"
   ]
  },
  {
   "cell_type": "markdown",
   "metadata": {},
   "source": [
    "This assigns a dictionary to the myCat variable. This dictionary’s keys are 'size', 'color', and 'disposition'. The values for these keys are 'fat', 'gray', and 'loud', respectively. "
   ]
  },
  {
   "cell_type": "code",
   "execution_count": 25,
   "metadata": {},
   "outputs": [
    {
     "name": "stdout",
     "output_type": "stream",
     "text": [
      "My cat has gray fur\n"
     ]
    }
   ],
   "source": [
    "print(f\"My cat has {my_cat.get('colour')} fur\")"
   ]
  },
  {
   "cell_type": "markdown",
   "metadata": {},
   "source": [
    "Unlike lists, items in dictionaries are unordered. The first item in a list named spam would be spam[0]. But there is no “first” item in a dictionary. While the order of items matters for determining whether two lists are the same, it does not matter in what order the key-value pairs are typed in a dictionary. "
   ]
  },
  {
   "cell_type": "markdown",
   "metadata": {},
   "source": [
    "## Classes"
   ]
  },
  {
   "cell_type": "code",
   "execution_count": 28,
   "metadata": {},
   "outputs": [
    {
     "name": "stdout",
     "output_type": "stream",
     "text": [
      "Rex says Woof!\n"
     ]
    }
   ],
   "source": [
    "class Dog:\n",
    "    # This is known as the initialiser method, also known as the constructot - it gets called when a new object of this class is created\n",
    "    def __init__(self, name, age):\n",
    "        # 'self' refers to the instance of the class wjereas 'name' and 'age' are attributes of the class\n",
    "        self.name = name\n",
    "        self.age = age\n",
    "\n",
    "    # This is a method of the class. It describes an action that a dog can do\n",
    "    def bark(self):\n",
    "        print(f\"{self.name} says Woof!\")\n",
    "\n",
    "# Create an object of the class Dog\n",
    "my_dog = Dog(\"Rex\", 5)\n",
    "\n",
    "# Call the method bark on the object my_dog\n",
    "my_dog.bark()\n"
   ]
  },
  {
   "cell_type": "code",
   "execution_count": 27,
   "metadata": {},
   "outputs": [
    {
     "name": "stdout",
     "output_type": "stream",
     "text": [
      "Alice borrowed 1984\n"
     ]
    }
   ],
   "source": [
    "# Class 1\n",
    "class Author:\n",
    "    def __init__(self, name):\n",
    "        self.name = name\n",
    "\n",
    "# Class 2\n",
    "class Book:\n",
    "    def __init__(self, title, author):\n",
    "        self.title = title\n",
    "        self.author = author\n",
    "\n",
    "# Class 3\n",
    "class Library:\n",
    "    def __init__(self):\n",
    "        self.books = []\n",
    "\n",
    "    def add_book(self, book):\n",
    "        self.books.append(book)\n",
    "\n",
    "    def list_books(self):\n",
    "        for book in self.books:\n",
    "            print(f\"{book.title} by {book.author.name}\")\n",
    "\n",
    "# Class 4\n",
    "class Reader:\n",
    "    def __init__(self, name):\n",
    "        self.name = name\n",
    "\n",
    "    def borrow_book(self, library, book_title):\n",
    "        for book in library.books:\n",
    "            if book.title == book_title:\n",
    "                print(f\"{self.name} borrowed {book.title}\")\n",
    "                library.books.remove(book)\n",
    "                break\n",
    "\n",
    "# Create instances and interactions\n",
    "author = Author(\"George Orwell\")\n",
    "book = Book(\"1984\", author)\n",
    "library = Library()\n",
    "library.add_book(book)\n",
    "reader = Reader(\"Alice\")\n",
    "reader.borrow_book(library, \"1984\")\n",
    "library.list_books()  # This will print nothing as the book has been borrowed"
   ]
  },
  {
   "cell_type": "markdown",
   "metadata": {},
   "source": [
    "In this example, `Author` and `Book` classes are used to create books with authors. The `Library` class stores these books and has methods to add books and list all books. The `Reader` class represents a reader who can borrow books from the library. "
   ]
  },
  {
   "cell_type": "code",
   "execution_count": 26,
   "metadata": {},
   "outputs": [
    {
     "name": "stdout",
     "output_type": "stream",
     "text": [
      "Rex says Woof!\n",
      "Whiskers says Meow!\n"
     ]
    }
   ],
   "source": [
    "# Superclass\n",
    "class Animal:\n",
    "    def __init__(self, name):\n",
    "        self.name = name\n",
    "\n",
    "    def speak(self):\n",
    "        pass\n",
    "\n",
    "# Subclass 1\n",
    "class Dog(Animal):\n",
    "    def speak(self):\n",
    "        return f\"{self.name} says Woof!\"\n",
    "\n",
    "# Subclass 2\n",
    "class Cat(Animal):\n",
    "    def speak(self):\n",
    "        return f\"{self.name} says Meow!\"\n",
    "\n",
    "# Create instances of the subclasses\n",
    "dog = Dog(\"Rex\")\n",
    "cat = Cat(\"Whiskers\")\n",
    "\n",
    "print(dog.speak())  # Output: Rex says Woof!\n",
    "print(cat.speak())  # Output: Whiskers says Meow!"
   ]
  },
  {
   "cell_type": "markdown",
   "metadata": {},
   "source": [
    "In this example, `Animal` is the superclass, and `Dog` and `Cat` are subclasses. The subclasses inherit the properties and methods from the superclass and can also have their own unique properties and methods. In this case, the speak method is overridden in each subclass to provide a unique behavior for each animal type."
   ]
  },
  {
   "cell_type": "markdown",
   "metadata": {},
   "source": [
    "## Debugging and exception handling"
   ]
  },
  {
   "cell_type": "markdown",
   "metadata": {},
   "source": [
    "Throughout the notebook, we have stumbled across a few examples of when errors have been thrown - but how do we handle them? And can we raise our own execptions?\n",
    "\n",
    "Exceptions are raised with a raise statement. In code, a raise statement consists of the following:\n",
    "\n",
    "* The `raise` keyword\n",
    "* A call to the `Exception()` function\n",
    "* A string with a helpful error message passed to the `Exception()` function"
   ]
  },
  {
   "cell_type": "code",
   "execution_count": 30,
   "metadata": {},
   "outputs": [
    {
     "ename": "Exception",
     "evalue": "This is the error message :)",
     "output_type": "error",
     "traceback": [
      "\u001b[0;31m---------------------------------------------------------------------------\u001b[0m",
      "\u001b[0;31mException\u001b[0m                                 Traceback (most recent call last)",
      "Cell \u001b[0;32mIn[30], line 1\u001b[0m\n\u001b[0;32m----> 1\u001b[0m \u001b[38;5;28;01mraise\u001b[39;00m \u001b[38;5;167;01mException\u001b[39;00m(\u001b[38;5;124m'\u001b[39m\u001b[38;5;124mThis is the error message :)\u001b[39m\u001b[38;5;124m'\u001b[39m)\n",
      "\u001b[0;31mException\u001b[0m: This is the error message :)"
     ]
    }
   ],
   "source": [
    "raise Exception('This is the error message :)')"
   ]
  },
  {
   "cell_type": "markdown",
   "metadata": {},
   "source": [
    "If there are no try and except statements covering the raise statement that raised the exception, the program simply crashes and displays the exception’s error message."
   ]
  },
  {
   "cell_type": "code",
   "execution_count": 40,
   "metadata": {},
   "outputs": [
    {
     "ename": "ValueError",
     "evalue": "You should now that wouldn't work ;)",
     "output_type": "error",
     "traceback": [
      "\u001b[0;31m---------------------------------------------------------------------------\u001b[0m",
      "\u001b[0;31mValueError\u001b[0m                                Traceback (most recent call last)",
      "Cell \u001b[0;32mIn[40], line 4\u001b[0m, in \u001b[0;36mconvert_to_int\u001b[0;34m(str)\u001b[0m\n\u001b[1;32m      2\u001b[0m \u001b[38;5;28;01mtry\u001b[39;00m:\n\u001b[1;32m      3\u001b[0m \u001b[38;5;66;03m# Try to convert a string to an integer\u001b[39;00m\n\u001b[0;32m----> 4\u001b[0m     num \u001b[38;5;241m=\u001b[39m \u001b[38;5;28;43mint\u001b[39;49m\u001b[43m(\u001b[49m\u001b[38;5;124;43m\"\u001b[39;49m\u001b[38;5;124;43mHello\u001b[39;49m\u001b[38;5;124;43m\"\u001b[39;49m\u001b[43m)\u001b[49m\n\u001b[1;32m      5\u001b[0m \u001b[38;5;28;01mexcept\u001b[39;00m:\n\u001b[1;32m      6\u001b[0m     \u001b[38;5;66;03m# If a ValueError occurs, print a message\u001b[39;00m\n",
      "\u001b[0;31mValueError\u001b[0m: invalid literal for int() with base 10: 'Hello'",
      "\nDuring handling of the above exception, another exception occurred:\n",
      "\u001b[0;31mValueError\u001b[0m                                Traceback (most recent call last)",
      "Cell \u001b[0;32mIn[40], line 9\u001b[0m\n\u001b[1;32m      5\u001b[0m     \u001b[38;5;28;01mexcept\u001b[39;00m:\n\u001b[1;32m      6\u001b[0m         \u001b[38;5;66;03m# If a ValueError occurs, print a message\u001b[39;00m\n\u001b[1;32m      7\u001b[0m         \u001b[38;5;28;01mraise\u001b[39;00m \u001b[38;5;167;01mValueError\u001b[39;00m(\u001b[38;5;124m\"\u001b[39m\u001b[38;5;124mYou should now that wouldn\u001b[39m\u001b[38;5;124m'\u001b[39m\u001b[38;5;124mt work ;)\u001b[39m\u001b[38;5;124m\"\u001b[39m)\n\u001b[0;32m----> 9\u001b[0m \u001b[43mconvert_to_int\u001b[49m\u001b[43m(\u001b[49m\u001b[38;5;124;43m\"\u001b[39;49m\u001b[38;5;124;43ms\u001b[39;49m\u001b[38;5;124;43m\"\u001b[39;49m\u001b[43m)\u001b[49m\n",
      "Cell \u001b[0;32mIn[40], line 7\u001b[0m, in \u001b[0;36mconvert_to_int\u001b[0;34m(str)\u001b[0m\n\u001b[1;32m      4\u001b[0m     num \u001b[38;5;241m=\u001b[39m \u001b[38;5;28mint\u001b[39m(\u001b[38;5;124m\"\u001b[39m\u001b[38;5;124mHello\u001b[39m\u001b[38;5;124m\"\u001b[39m)\n\u001b[1;32m      5\u001b[0m \u001b[38;5;28;01mexcept\u001b[39;00m:\n\u001b[1;32m      6\u001b[0m     \u001b[38;5;66;03m# If a ValueError occurs, print a message\u001b[39;00m\n\u001b[0;32m----> 7\u001b[0m     \u001b[38;5;28;01mraise\u001b[39;00m \u001b[38;5;167;01mValueError\u001b[39;00m(\u001b[38;5;124m\"\u001b[39m\u001b[38;5;124mYou should now that wouldn\u001b[39m\u001b[38;5;124m'\u001b[39m\u001b[38;5;124mt work ;)\u001b[39m\u001b[38;5;124m\"\u001b[39m)\n",
      "\u001b[0;31mValueError\u001b[0m: You should now that wouldn't work ;)"
     ]
    }
   ],
   "source": [
    "def convert_to_int(str):\n",
    "    try:\n",
    "    # Try to convert a string to an integer\n",
    "        num = int(\"Hello\")\n",
    "    except:\n",
    "        # If a ValueError occurs, print a message\n",
    "        raise ValueError(\"You should now that wouldn't work ;)\")\n",
    "\n",
    "convert_to_int(\"s\")"
   ]
  },
  {
   "cell_type": "code",
   "execution_count": 41,
   "metadata": {},
   "outputs": [
    {
     "data": {
      "text/plain": [
       "False"
      ]
     },
     "execution_count": 41,
     "metadata": {},
     "output_type": "execute_result"
    }
   ],
   "source": [
    "def divisible_by_two(num):\n",
    "    if type(num) != int:\n",
    "        raise Exception(\"The input is not of type integer\")\n",
    "    if num % 2 == 0:\n",
    "        return True\n",
    "    else:\n",
    "        return False\n",
    "\n",
    "divisible_by_two(3)"
   ]
  },
  {
   "cell_type": "markdown",
   "metadata": {},
   "source": [
    "An assertion is a sanity check to make sure your code isn’t doing something obviously wrong. These sanity checks are performed by assert statements. If the sanity check fails, then an AssertionError exception is raised. In code, an assert statement consists of the following:\n",
    "\n",
    "* The assert keyword\n",
    "* A condition (that is, an expression that evaluates to True or False)\n",
    "* A comma\n",
    "* A string to display when the condition is False"
   ]
  },
  {
   "cell_type": "code",
   "execution_count": 45,
   "metadata": {},
   "outputs": [],
   "source": [
    "ages = [26, 57, 92, 54, 22, 15, 17, 80, 47, 73]\n",
    "ages.sort()\n",
    "assert ages[0] <= ages[-1] # Assert that the first age is <= the last age."
   ]
  },
  {
   "cell_type": "code",
   "execution_count": 46,
   "metadata": {},
   "outputs": [
    {
     "ename": "AssertionError",
     "evalue": "",
     "output_type": "error",
     "traceback": [
      "\u001b[0;31m---------------------------------------------------------------------------\u001b[0m",
      "\u001b[0;31mAssertionError\u001b[0m                            Traceback (most recent call last)",
      "Cell \u001b[0;32mIn[46], line 2\u001b[0m\n\u001b[1;32m      1\u001b[0m ages\u001b[38;5;241m.\u001b[39mreverse()\n\u001b[0;32m----> 2\u001b[0m \u001b[38;5;28;01massert\u001b[39;00m ages[\u001b[38;5;241m0\u001b[39m] \u001b[38;5;241m<\u001b[39m\u001b[38;5;241m=\u001b[39m ages[\u001b[38;5;241m-\u001b[39m\u001b[38;5;241m1\u001b[39m] \u001b[38;5;66;03m# Assert that the first age is <= the last age.\u001b[39;00m\n",
      "\u001b[0;31mAssertionError\u001b[0m: "
     ]
    }
   ],
   "source": [
    "ages.reverse()\n",
    "assert ages[0] <= ages[-1] # Assert that the first age is <= the last age."
   ]
  },
  {
   "cell_type": "markdown",
   "metadata": {},
   "source": [
    "If you’ve ever put a `print()` statement in your code to output some variable’s value while your program is running, you’ve used a form of logging to debug your code. Logging is a great way to understand what’s happening in your program and in what order it’s happening. Python’s `logging` module makes it easy to create a record of custom messages that you write.\n",
    "\n",
    "When Python logs an event, it creates a LogRecord object that holds information about that event. The logging module’s basicConfig() function lets you specify what details about the LogRecord object you want to see and how you want those details displayed."
   ]
  },
  {
   "cell_type": "code",
   "execution_count": 47,
   "metadata": {},
   "outputs": [
    {
     "name": "stderr",
     "output_type": "stream",
     "text": [
      "2024-06-11 19:03:26,724 -  DEBUG -  Start of program\n",
      "2024-06-11 19:03:26,726 -  DEBUG -  Start of factorial(5%)\n",
      "2024-06-11 19:03:26,727 -  DEBUG -  i is 0, total is 0\n",
      "2024-06-11 19:03:26,728 -  DEBUG -  i is 1, total is 0\n",
      "2024-06-11 19:03:26,729 -  DEBUG -  i is 2, total is 0\n",
      "2024-06-11 19:03:26,729 -  DEBUG -  i is 3, total is 0\n",
      "2024-06-11 19:03:26,730 -  DEBUG -  i is 4, total is 0\n",
      "2024-06-11 19:03:26,731 -  DEBUG -  i is 5, total is 0\n",
      "2024-06-11 19:03:26,731 -  DEBUG -  End of factorial(5%)\n",
      "2024-06-11 19:03:26,732 -  DEBUG -  End of program\n"
     ]
    },
    {
     "name": "stdout",
     "output_type": "stream",
     "text": [
      "0\n"
     ]
    }
   ],
   "source": [
    "import logging\n",
    "logging.basicConfig(level=logging.DEBUG, format='%(asctime)s -  %(levelname)s -  %(message)s')\n",
    "logging.debug('Start of program')\n",
    "\n",
    "def factorial(n):\n",
    "    logging.debug('Start of factorial(%s%%)'  % (n))\n",
    "    total = 1\n",
    "    for i in range(n + 1):\n",
    "        total *= i\n",
    "        logging.debug('i is ' + str(i) + ', total is ' + str(total))\n",
    "    logging.debug('End of factorial(%s%%)'  % (n))\n",
    "    return total\n",
    "\n",
    "print(factorial(5))\n",
    "logging.debug('End of program')"
   ]
  },
  {
   "cell_type": "markdown",
   "metadata": {},
   "source": [
    "The `factorial()` function is returning 0 as the factorial of 5, which isn’t right. The for loop should be multiplying the value in total by the numbers from 1 to 5. But the log messages displayed by `logging.debug()` show that the i variable is starting at 0 instead of 1. Since zero times anything is zero, the rest of the iterations also have the wrong value for total. Logging messages provide a trail of breadcrumbs that can help you figure out when things started to go wrong."
   ]
  },
  {
   "cell_type": "markdown",
   "metadata": {},
   "source": [
    "The nice thing about log messages is that you’re free to fill your program with as many as you like, and you can always disable them later by adding a single `logging.disable(logging.CRITICAL)` call. Unlike `print()`, the logging module makes it easy to switch between showing and hiding log messages."
   ]
  },
  {
   "cell_type": "markdown",
   "metadata": {},
   "source": [
    "import pdb; pdb.set_trace()... that's it, that's the creme de la crème of debugging... if you're not used to the VSCode debugging tools anyways!"
   ]
  },
  {
   "cell_type": "code",
   "execution_count": 48,
   "metadata": {},
   "outputs": [
    {
     "name": "stdout",
     "output_type": "stream",
     "text": [
      "Writing cell_to_file.py\n"
     ]
    }
   ],
   "source": [
    "%%writefile cell_to_file.py\n",
    "\n",
    "a = 1\n",
    "b = 2\n",
    "a = a + b\n",
    "b = b * a + b * b\n",
    "c = 3\n",
    "d = 4\n",
    "d = b ** b - a * b\n",
    "import pdb; pdb.set_trace()\n",
    "e = 5"
   ]
  },
  {
   "cell_type": "markdown",
   "metadata": {},
   "source": [
    "We have now created a misc Python file called `cell_to_file.py` using some inline magic! Head-over to the terminal and run the script using the command `python <path_to_file>.py` - the file will stop at the import statement and allow you to run commands such as `list` and `print` to determine the status of variables etc."
   ]
  },
  {
   "cell_type": "markdown",
   "metadata": {},
   "source": [
    "## Challenge time!\n",
    "\n",
    "Based on what you have learnt over the course of the past few notebooks, let's put your skills to the test...! Build a calculator, breaking down the core behaviours into individual functions and adhering to the best practices covered in the content!"
   ]
  }
 ],
 "metadata": {
  "kernelspec": {
   "display_name": "Python 3",
   "language": "python",
   "name": "python3"
  },
  "language_info": {
   "codemirror_mode": {
    "name": "ipython",
    "version": 3
   },
   "file_extension": ".py",
   "mimetype": "text/x-python",
   "name": "python",
   "nbconvert_exporter": "python",
   "pygments_lexer": "ipython3",
   "version": "3.10.13"
  }
 },
 "nbformat": 4,
 "nbformat_minor": 2
}
